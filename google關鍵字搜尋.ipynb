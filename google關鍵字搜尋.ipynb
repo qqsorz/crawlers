{
 "cells": [
  {
   "cell_type": "code",
   "execution_count": 1,
   "metadata": {},
   "outputs": [],
   "source": [
    "from selenium import webdriver\n",
    "from selenium.webdriver.common.keys import Keys\n",
    "from bs4 import BeautifulSoup as bs\n",
    "\n",
    "import time"
   ]
  },
  {
   "cell_type": "code",
   "execution_count": 2,
   "metadata": {},
   "outputs": [],
   "source": [
    "driver = webdriver.Chrome('./chromedriver')\n",
    "driver.get('https://www.google.com')\n",
    "\n",
    "# 搜尋關鍵字\n",
    "q = driver.find_element_by_name('q')\n",
    "q.send_keys('資料分析工作')\n",
    "q.send_keys(Keys.RETURN)"
   ]
  },
  {
   "cell_type": "markdown",
   "metadata": {},
   "source": [
    "只印第一頁"
   ]
  },
  {
   "cell_type": "code",
   "execution_count": 8,
   "metadata": {},
   "outputs": [
    {
     "name": "stdout",
     "output_type": "stream",
     "text": [
      "數據分析管理師︱台北市中正區︱財團法人中衛發展中心︱首選找工作‎\n",
      "Excel資料分析工作術：提升業績、改善獲利，就靠這幾招- PChome 24h ...\n",
      "工作職掌- 資料分析組 - 崑山科技大學\n",
      "免費- Power BI 數據分析工作坊 - Facebook\n",
      "公務機關巨量資料分析應用推動簡介 - 國家發展委員會\n",
      "實務工作坊2：R 語言資料分析基石(一)(二) - KKTIX\n",
      "2016 暑期實習心得#1 踏上資料科學家的奇幻旅程– YOCTOL\n",
      "遠東科技大學辦理「巨量資料分析工作坊」研習內容 - 臺北市立啟聰學校\n",
      "德瑞克：SQL Server 學習筆記: 認識資料分析工作(Data Profiling Task ...\n",
      "靜宜大學-資料科學暨大數據分析\n",
      "大數據與巨量資料分析 - 國內學術電子期刊系統\n"
     ]
    }
   ],
   "source": [
    "# 解析 HTML 程式碼\n",
    "soup = bs(driver.page_source, 'html.parser')\n",
    "\n",
    "# 印出排版結果\n",
    "# print(soup.prettify())\n",
    "\n",
    "for result in soup.select('#rcnt a h3'):\n",
    "    print(result.text)"
   ]
  },
  {
   "cell_type": "markdown",
   "metadata": {},
   "source": [
    "用 for 迴圈切分頁"
   ]
  },
  {
   "cell_type": "code",
   "execution_count": 10,
   "metadata": {},
   "outputs": [
    {
     "name": "stdout",
     "output_type": "stream",
     "text": [
      "全部工作、關鍵字(資料分析師)、一年以下- 104人力銀行工作機會\n",
      "關鍵字(資料分析師) - 104人力銀行工作列表\n",
      "從事資料分析工作，如何找到適合的好企業？ - iT 邦幫忙::一起幫忙解決 ...\n",
      "資料分析師工作職缺/工作機會列表(第1頁/40筆)  找工作就上1111人力銀行\n",
      "在台灣的資料分析工作| Careerjet.tw\n",
      "在台灣的數據分析工作| Careerjet.tw\n",
      "數據分析師- 17Life找到熱血沸騰的新創工作 - Yourator\n",
      "數據分析師Data Analyst - Aimazing找到熱血沸騰的新創工作 - Yourator\n",
      "[專訪] 搶當大數據科學家，5大特質你有嗎？｜數位時代\n",
      "Etu 午後對話：資料工程師X 資料分析師\n",
      "真正的數據分析師都做些什麼？ - FineReport\n",
      "工作分享》王懷晨（華碩資料分析師）：抽絲剝繭網路數據，讓資料說故事 ...\n",
      "資料分析師？科學家？架構師？大數據人才的工作內容及年薪比較 ...\n",
      "大數據分析學習：數據分析師工作內容及擇業指南- 每日頭條\n",
      "資料分析實習生熱門職缺– CakeResume 找工作\n",
      "想成為一名戰鬥力超強數據分析師？讓公司程式白痴聽懂程式碼在幹嘛 ...\n",
      "Python資料分析工作坊 - 產業學習網 - 工研院\n",
      "身為資料分析師，你該如何展現工作中的價值？ – 邱國欣（Andy Chiu ...\n",
      "南科AI_ROBOT 自造基地| 巨量資料分析工作坊\n",
      "轉知：遠東科技大學辦理「巨量資料分析工作坊」研習- 國立彰化高中網站\n",
      "#問數據分析薪水- Dcard 工作板\n",
      "毛揆：應用大數據分析精進毒品防制工作效益- 衛生福利部\n",
      "迎接AI的未來，需要數據分析人才 - 產業人才發展資訊網\n",
      "巨量資料分析工作坊\n",
      "工作分析- MBA智库百科\n",
      "高雄醫學大學公共衛生學系- 巨量基因體資料分析工作坊\n",
      "不可不知！未來最搶手的職缺：數據分析管理人才| 經理人\n",
      "巨量資料分析工作坊- 壽山高中\n",
      "什麼！？資料科學家≠商業資料分析師？ - 哈佛商業評論‧與世界一流 ...\n",
      "「媽，我不是做財經的呀！」行銷數據分析師靠4步驟說著好故事 ...\n"
     ]
    }
   ],
   "source": [
    "for i in range(1, 4):\n",
    "    driver.find_element_by_link_text('{}'.format(i)).click()\n",
    "    soup = bs(driver.page_source, 'html.parser')\n",
    "    for result in soup.select('#rcnt a h3'):\n",
    "        print(result.text)"
   ]
  },
  {
   "cell_type": "code",
   "execution_count": null,
   "metadata": {},
   "outputs": [],
   "source": []
  }
 ],
 "metadata": {
  "kernelspec": {
   "display_name": "Python 3",
   "language": "python",
   "name": "python3"
  },
  "language_info": {
   "codemirror_mode": {
    "name": "ipython",
    "version": 3
   },
   "file_extension": ".py",
   "mimetype": "text/x-python",
   "name": "python",
   "nbconvert_exporter": "python",
   "pygments_lexer": "ipython3",
   "version": "3.7.2"
  }
 },
 "nbformat": 4,
 "nbformat_minor": 2
}
